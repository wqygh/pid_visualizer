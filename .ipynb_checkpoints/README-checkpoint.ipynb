{
 "cells": [
  {
   "cell_type": "markdown",
   "metadata": {},
   "source": [
    "# PID control visualizer"
   ]
  },
  {
   "cell_type": "markdown",
   "metadata": {},
   "source": [
    "A simple visualization of how each parameter in a **P**roportional-**I**ntegral-**D**erivative controller works"
   ]
  },
  {
   "cell_type": "markdown",
   "metadata": {},
   "source": [
    "## Math form"
   ]
  },
  {
   "cell_type": "markdown",
   "metadata": {},
   "source": [
    "Let $ T(t) $ as the target value at time t, $ M(t) $ as the measured value at time t, $ e(t)=T(t)-M(t) $ as the error at time t. A PID controller use the following formula to control the output $ u(t) $:\n",
    "$$\n",
    "u(t) = K_pe(t) + K_i\\int_0^te(t')dt' + K_d\\frac{de(t)}{dt}\n",
    "$$\n",
    "where $ K_p $, $ K_i $, and $ K_d $ are the non-negative coefficients for the proportional, integral, and derivative terms, respectively.\n",
    "The three coefficients can be linked in the following manner: $ K_i = K_p/T_i $ and $ K_d = K_p*T_d $, and the formula becomes:\n",
    "\\begin{align}\n",
    "u(t) = K_p*(e(t) + \\frac{1}{T_i}\\int_0^te(t')dt' + T_d\\frac{de(t)}{dt})\n",
    "\\end{align}"
   ]
  }
 ],
 "metadata": {
  "kernelspec": {
   "display_name": "Python 3",
   "language": "python",
   "name": "python3"
  },
  "language_info": {
   "codemirror_mode": {
    "name": "ipython",
    "version": 3
   },
   "file_extension": ".py",
   "mimetype": "text/x-python",
   "name": "python",
   "nbconvert_exporter": "python",
   "pygments_lexer": "ipython3",
   "version": "3.7.4"
  }
 },
 "nbformat": 4,
 "nbformat_minor": 4
}
